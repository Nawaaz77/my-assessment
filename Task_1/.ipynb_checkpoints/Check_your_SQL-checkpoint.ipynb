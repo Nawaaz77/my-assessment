{
 "cells": [
  {
   "cell_type": "code",
   "execution_count": 189,
   "metadata": {},
   "outputs": [],
   "source": [
    "import importlib\n",
    "import subprocess\n",
    "\n",
    "import Advanced_SQL as asql\n",
    "import duckdb\n",
    "import SQL as sql\n",
    "\n",
    "_ = importlib.reload(asql)\n",
    "_ = importlib.reload(sql)"
   ]
  },
  {
   "cell_type": "markdown",
   "metadata": {},
   "source": [
    "Use this cell to test any sql queries. This can be done in one of the following ways:\n",
    "\n",
    "1. Fill in the `qry` within the \"\"\" \"\"\".\n",
    "2. Call the question functions that you have already filled in from the SQL.py and Advanced_SQL.py files. An example of question_1 being called from the SQL.py file is currently commented out.\n",
    "\n",
    "This cell can be copied if you wish to run multiple queries.\n"
   ]
  },
  {
   "cell_type": "code",
   "execution_count": 190,
   "metadata": {},
   "outputs": [
    {
     "ename": "AttributeError",
     "evalue": "module 'Advanced_SQL' has no attribute 'question6'",
     "output_type": "error",
     "traceback": [
      "\u001b[0;31m---------------------------------------------------------------------------\u001b[0m",
      "\u001b[0;31mAttributeError\u001b[0m                            Traceback (most recent call last)",
      "Cell \u001b[0;32mIn[190], line 3\u001b[0m\n\u001b[1;32m      1\u001b[0m \u001b[38;5;66;03m#qry = \"\"\"SELECT c.CustomerID, c.Region, l.ApprovalStatus FROM customers c JOIN loans l ON l.CustomerID = c.CustomerID\"\"\"\u001b[39;00m\n\u001b[1;32m      2\u001b[0m \u001b[38;5;66;03m#Select cr.CustomerClass, AVG(cd.Income) as AverageIncome FROM credit cr JOIN customers cd ON cr.CustomerID = cd.CustomerID GROUP BY cr.CustomerClass \u001b[39;00m\n\u001b[0;32m----> 3\u001b[0m \u001b[43masql\u001b[49m\u001b[38;5;241;43m.\u001b[39;49m\u001b[43mquestion6\u001b[49m();\n\u001b[1;32m      4\u001b[0m qry \u001b[38;5;241m=\u001b[39m \u001b[38;5;124m\"\"\"\u001b[39m\n\u001b[1;32m      5\u001b[0m \u001b[38;5;124mALTER TABLE corrected_customers \u001b[39m\n\u001b[1;32m      6\u001b[0m \u001b[38;5;124mADD COLUMN AgeCategory VARCHAR(20);\u001b[39m\n\u001b[0;32m   (...)\u001b[0m\n\u001b[1;32m     15\u001b[0m \n\u001b[1;32m     16\u001b[0m \u001b[38;5;124m\"\"\"\u001b[39m\n\u001b[1;32m     19\u001b[0m \u001b[38;5;66;03m#qry =\"\"\"Select cr.CustomerClass, AVG(cd.Income) as AverageIncome FROM (SELECT Distinct(CustomerID), CustomerClass FROM credit) cr JOIN customers cd ON cr.CustomerID = cd.CustomerID GROUP BY cr.CustomerClass \"\"\"\u001b[39;00m\n\u001b[1;32m     20\u001b[0m \u001b[38;5;66;03m#qry = asql.question_1()\u001b[39;00m\n\u001b[1;32m     21\u001b[0m \u001b[38;5;66;03m#qry = sql.question_2()\u001b[39;00m\n\u001b[0;32m   (...)\u001b[0m\n\u001b[1;32m     24\u001b[0m \u001b[38;5;66;03m#qry = sql.question_5()\u001b[39;00m\n\u001b[1;32m     25\u001b[0m \u001b[38;5;66;03m#qry = \"\"\"SELECT * from financing\"\"\"\u001b[39;00m\n",
      "\u001b[0;31mAttributeError\u001b[0m: module 'Advanced_SQL' has no attribute 'question6'"
     ]
    }
   ],
   "source": [
    "#qry = \"\"\"SELECT c.CustomerID, c.Region, l.ApprovalStatus FROM customers c JOIN loans l ON l.CustomerID = c.CustomerID\"\"\"\n",
    "#Select cr.CustomerClass, AVG(cd.Income) as AverageIncome FROM credit cr JOIN customers cd ON cr.CustomerID = cd.CustomerID GROUP BY cr.CustomerClass \n",
    "asql.question_6();\n",
    "qry = \"\"\"\n",
    "ALTER TABLE corrected_customers \n",
    "ADD COLUMN AgeCategory VARCHAR(20);\n",
    "\n",
    "UPDATE corrected_customers\n",
    "SET AgeCategory = CASE\n",
    "    WHEN CorrectedAge < 20 THEN 'Teen'\n",
    "    WHEN CorrectedAge >= 20 AND CorrectedAge < 30 THEN 'Young Adult'\n",
    "    WHEN CorrectedAge >= 30 AND CorrectedAge < 60 THEN 'Adult'\n",
    "    WHEN CorrectedAge >= 60 THEN 'Pensioner'\n",
    "END;\n",
    "\n",
    "\"\"\"\n",
    "\n",
    "\n",
    "#qry =\"\"\"Select cr.CustomerClass, AVG(cd.Income) as AverageIncome FROM (SELECT Distinct(CustomerID), CustomerClass FROM credit) cr JOIN customers cd ON cr.CustomerID = cd.CustomerID GROUP BY cr.CustomerClass \"\"\"\n",
    "#qry = asql.question_1()\n",
    "#qry = sql.question_2()\n",
    "#qry = asql.question_3()\n",
    "#qry = asql.question_4()\n",
    "#qry = sql.question_5()\n",
    "#qry = \"\"\"SELECT * from financing\"\"\"\n",
    "\n",
    "with duckdb.connect(\"database/loan.db\") as cursor:\n",
    "    result_set = cursor.execute(qry).df()\n",
    "\n",
    "result_set"
   ]
  },
  {
   "cell_type": "markdown",
   "metadata": {},
   "source": [
    "Should you break/incorrectly update any database tables, the database can be reset by running the following cell\n"
   ]
  },
  {
   "cell_type": "code",
   "execution_count": 186,
   "metadata": {},
   "outputs": [
    {
     "data": {
      "text/plain": [
       "CompletedProcess(args=['python3', 'database/database_load.py'], returncode=0)"
      ]
     },
     "execution_count": 186,
     "metadata": {},
     "output_type": "execute_result"
    }
   ],
   "source": [
    "load_script_path = \"database/database_load.py\"\n",
    "subprocess.run([\"python3\", load_script_path])"
   ]
  },
  {
   "cell_type": "code",
   "execution_count": null,
   "metadata": {},
   "outputs": [],
   "source": []
  }
 ],
 "metadata": {
  "kernelspec": {
   "display_name": "Python 3 (ipykernel)",
   "language": "python",
   "name": "python3"
  },
  "language_info": {
   "codemirror_mode": {
    "name": "ipython",
    "version": 3
   },
   "file_extension": ".py",
   "mimetype": "text/x-python",
   "name": "python",
   "nbconvert_exporter": "python",
   "pygments_lexer": "ipython3",
   "version": "3.10.15"
  }
 },
 "nbformat": 4,
 "nbformat_minor": 4
}
